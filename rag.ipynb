{
 "cells": [
  {
   "cell_type": "markdown",
   "id": "5072c88d",
   "metadata": {},
   "source": [
    "# IMPORTING THE REQ LIBRARIES"
   ]
  },
  {
   "cell_type": "code",
   "execution_count": 4,
   "id": "b6e5e5fb",
   "metadata": {},
   "outputs": [],
   "source": [
    "from langchain_community.document_loaders import UnstructuredURLLoader\n",
    "from langchain_text_splitters import RecursiveCharacterTextSplitter\n",
    "from langchain_chroma import Chroma\n",
    "from langchain_openai import OpenAIEmbeddings\n",
    "from langchain_openai import OpenAI\n",
    "from dotenv import load_dotenv"
   ]
  },
  {
   "cell_type": "markdown",
   "id": "ff95101d",
   "metadata": {},
   "source": [
    "# LOADING OF THE DATA"
   ]
  },
  {
   "cell_type": "code",
   "execution_count": 5,
   "id": "8d842af6",
   "metadata": {},
   "outputs": [],
   "source": [
    "urls = ['https://www.victoriaonmove.com.au/local-removalists.html','https://www.victoriaonmove.com.au/contact.html','https://www.victoriaonmove.com.au/melbourne-interstate-removalists.html']\n",
    "loader= UnstructuredURLLoader(urls=urls)\n",
    "data = loader.load()"
   ]
  },
  {
   "cell_type": "code",
   "execution_count": 6,
   "id": "9e766fa7",
   "metadata": {},
   "outputs": [
    {
     "data": {
      "text/plain": [
       "[Document(metadata={'source': 'https://www.victoriaonmove.com.au/local-removalists.html'}, page_content='Loading...\\n\\nLOCAL REMOVALS\\n\\nYour trusted partner in seamless moving and packing solutions!\\n\\nGoogle logo G\\n\\nGoogle Rating\\n\\nGold star icon\\n\\nGold star icon\\n\\nGold star icon\\n\\nGold star icon\\n\\nGold star icon\\n\\n5 stars, 111 reviews\\n\\n\\n\\nRequst A call for You:\\n\\nLocal removal services via \"Victoria on move\"\\n\\nVictoria on Move is your trusted local moving company in Melbourne, specializing in seamless relocation services. As experienced furniture movers and relocation experts, we provide top-notch packing and moving services tailored to your needs. Whether you\\'re moving across town or relocating interstate, our professional movers ensure a stress-free experience. Count on Victoria on Move for reliable removal services, making us the preferred choice among local movers in Melbourne. Discover why we\\'re recognized for our commitment to quality and customer satisfaction.\\n\\nIcon\\n\\nApartment Moving\\n\\nEfficient and careful relocation services tailored for apartments of all sizes, ensuring smooth transitions to your new home.\\n\\nIcon\\n\\nVilla Moving\\n\\nComprehensive moving solutions for large residences and villas, handling valuable possessions with utmost care and precision.\\n\\nIcon\\n\\nHousehold Moving\\n\\nFull-service moving options for households, including packing, loading, transportation, and unpacking services to simplify your move.\\n\\nIcon\\n\\nOffice Moving\\n\\nSpecialized expertise in office relocations, minimizing downtime and ensuring your business operations continue seamlessly.\\n\\nIcon\\n\\nFurniture Moving\\n\\nExperienced in handling furniture of all sizes and types, ensuring safe transport and setup in your new location.\\n\\nIcon\\n\\nPacking and Unpacking Services\\n\\nOptional packing and unpacking services available to save you time and effort, using high-quality packing materials.\\n\\nIcon\\n\\nCustomized Moving Plans\\n\\nTailored moving plans to fit your specific requirements and schedule, providing personalized service and peace of mind.\\n\\nIcon\\n\\nProfessional Team\\n\\nExperienced and courteous moving professionals dedicated to delivering exceptional service and customer satisfaction throughout the entire moving process.\\n\\nFind removalists travelling to or from Melbourne\\n\\nFrom Melbourne\\n\\nTo Melbourne\\n\\nMoving from Ballarat to MelbourneMoving from Bendigo to MelbourneMoving from Geelong to MelbourneMoving from Melton to MelbourneMoving from Mildura to MelbourneMoving from Mooroopna to MelbourneMoving from Shepparton to MelbourneMoving from Sunbury to MelbourneMoving from Traralgon to MelbourneMoving from Warrnambool to MelbourneMoving from Wodonga to Melbourne\\n\\nMoving from Melbourne to BallaratMoving from Melbourne to BendigoMoving from Melbourne to GeelongMoving from Melbourne to MeltonMoving from Melbourne to MilduraMoving from Melbourne to MooroopnaMoving from Melbourne to SheppartonMoving from Melbourne to SunburyMoving from Melbourne to TraralgonMoving from Melbourne to WarrnamboolMoving from Melbourne to Wodonga\\n\\nLooking for interstate removalists Melbourne? We can also assist with interstate moves to or from Melbourne.\\n\\nGet In Touch\\n\\nWollert Victoria\\n\\n0404922328\\n\\nvictoriaonmove07@gmail.com\\n\\nQuick Links\\n\\nAbout Us Contact Us Our Services Terms & Condition\\n\\nPhoto Gallery\\n\\n\\n\\n\\n\\n\\n\\n\\n\\n\\n\\n\\n\\nCheck us out on Google!\\n\\nreviews\\n\\n© Victoria On Move 2024, All Right Reserved. Designed By HTML Codex\\n\\nHome'),\n",
       " Document(metadata={'source': 'https://www.victoriaonmove.com.au/contact.html'}, page_content='Loading...\\n\\n\\n\\nContact Us\\n\\nYou can contact us any way that is convenient for you. We are available 24/7 via fax or email. You can also use a quick contact form below or visit our office personally. We would be happy to answer your questions.\\n\\nWollert Victoria\\n\\nvictoriaonmove07@gmail.com\\n\\n0404922328\\n\\nFind removalists travelling interstate to or from Sydney\\n\\nFrom Sydney\\n\\nTo Sydney\\n\\nMoving from Adelaide to SydneyMoving from Ballarat to SydneyMoving from Bendigo to SydneyMoving from Brisbane to SydneyMoving from Cairns to SydneyMoving from Canberra to SydneyMoving from Darwin to SydneyMoving from Geelong to SydneyMoving from Gold Coast to SydneyMoving from Hobart to SydneyMoving from Melbourne to SydneyMoving from Perth to SydneyMoving from Tasmania to Sydney\\n\\nMoving from Sydney to AdelaideMoving from Sydney to BallaratMoving from Sydney to BendigoMoving from Sydney to BrisbaneMoving from Sydney to BunburyMoving from Sydney to BundabergMoving from Sydney to CairnsMoving from Sydney to CanberraMoving from Sydney to DarwinMoving from Sydney to DevonportMoving from Sydney to Fraser CoastMoving from Sydney to GeelongMoving from Sydney to GeraldtonMoving from Sydney to GladstoneMoving from Sydney to Gold CoastMoving from Sydney to Hervey BayMoving from Sydney to HobartMoving from Sydney to LauncestonMoving from Sydney to MackayMoving from Sydney to MandurahMoving from Sydney to MelbourneMoving from Sydney to MeltonMoving from Sydney to PerthMoving from Sydney to RockhamptonMoving from Sydney to SheppartonMoving from Sydney to Sunshine CoastMoving from Sydney to TasmaniaMoving from Sydney to ToowoombaMoving from Sydney to TownsvilleMoving from Sydney to TraralgonMoving from Sydney to Warrnambool\\n\\nIf you are in need of local removalists services in Sydney we can also help with professional movers for local moves.\\n\\nGet In Touch\\n\\nWollert Victoria\\n\\n0404922328\\n\\nvictoriaonmove07@gmail.com\\n\\nQuick Links\\n\\nAbout Us Contact Us Our Services Terms & Condition\\n\\nPhoto Gallery\\n\\n\\n\\n\\n\\n\\n\\n\\n\\n\\n\\n\\n\\nCheck us out on Google!\\n\\nreviews\\n\\n© Victoria On Move 2024, All Right Reserved. Designed By HTML Codex\\n\\nHome'),\n",
       " Document(metadata={'source': 'https://www.victoriaonmove.com.au/melbourne-interstate-removalists.html'}, page_content='Loading...\\n\\nMelbourne Interstate Removals\\n\\nYour trusted partner in seamless moving and packing solutions!\\n\\nGoogle logo G\\n\\nGoogle Rating\\n\\nGold star icon\\n\\nGold star icon\\n\\nGold star icon\\n\\nGold star icon\\n\\nGold star icon\\n\\n5 stars, 111 reviews\\n\\n\\n\\nRequst A call for You:\\n\\nInterstate removal services via \"Victoria on move\"\\n\\nVictoria on Move specializes in interstate moving services from Melbourne to Sydney, Adelaide, Brisbane, and Canberra. Whether you\\'re planning a relocation to Sydney\\'s bustling metropolis, Adelaide\\'s cultural hub, Brisbane\\'s sunny shores, or Canberra\\'s political center, our experienced team ensures a seamless transition. We provide comprehensive moving solutions tailored to your needs, including expert packing, secure transportation, and professional unpacking services. With years of expertise in interstate moving, Victoria on Move is your trusted partner for reliable and stress-free relocations across state borders. Trust us for careful handling of your furniture and belongings, ensuring they arrive safely and on schedule at your new destination.\\n\\nIcon\\n\\nApartment Moving\\n\\nEfficient and careful relocation services tailored for apartments of all sizes, ensuring smooth transitions to your new home.\\n\\nIcon\\n\\nVilla Moving\\n\\nComprehensive moving solutions for large residences and villas, handling valuable possessions with utmost care and precision.\\n\\nIcon\\n\\nHousehold Moving\\n\\nFull-service moving options for households, including packing, loading, transportation, and unpacking services to simplify your move.\\n\\nIcon\\n\\nOffice Moving\\n\\nSpecialized expertise in office relocations, minimizing downtime and ensuring your business operations continue seamlessly.\\n\\nIcon\\n\\nFurniture Moving\\n\\nExperienced in handling furniture of all sizes and types, ensuring safe transport and setup in your new location.\\n\\nIcon\\n\\nPacking and Unpacking Services\\n\\nOptional packing and unpacking services available to save you time and effort, using high-quality packing materials.\\n\\nIcon\\n\\nCustomized Moving Plans\\n\\nTailored moving plans to fit your specific requirements and schedule, providing personalized service and peace of mind.\\n\\nIcon\\n\\nProfessional Team\\n\\nExperienced and courteous moving professionals dedicated to delivering exceptional service and customer satisfaction throughout the entire moving process.\\n\\nWhy choose Victoria on move?\\n\\nHere are some points highlighting reasons to choose Victoria on Move for your moving needs:\\n\\nExpertise in Interstate Moving:\\n\\nSpecializing in interstate relocations from Melbourne to Sydney, Adelaide, Brisbane, and Canberra, ensuring a smooth transition across state borders.\\n\\nComprehensive Moving Services:\\n\\nOffering a full range of moving services including packing, loading, transportation, and unpacking, tailored to your specific requirements.\\n\\nProfessional and Experienced Team:\\n\\nDedicated team of movers with extensive experience in handling furniture and belongings with care and precision.\\n\\nParking:\\n\\nWe\\'ll park safely, except in Clearways. Parking fees or infringements will be added to the job cost.\\n\\nCustomer-Focused Approach:\\n\\nCommitment to customer satisfaction with personalized moving plans and attentive service throughout the entire relocation process.\\n\\nSecure and Reliable:\\n\\nUtilizing quality packing materials and secure transportation methods to ensure your items arrive safely at their destination.\\n\\nFlexible Scheduling:\\n\\nAccommodating your schedule with flexible moving dates and timely delivery to meet your moving timeline.\\n\\nTransparent Pricing:\\n\\nClear and competitive pricing with no hidden fees, providing transparency and peace of mind.\\n\\nPositive Reputation:\\n\\nEstablished reputation for reliability, professionalism, and positive customer feedback in the moving industry.\\n\\nChoosing Victoria on Move ensures a stress-free and reliable moving experience, backed by expertise, professionalism, and a commitment to customer satisfaction.\\n\\nFind removalists travelling interstate to or from Melbourne\\n\\nFrom Melbourne\\n\\nTo Melbourne\\n\\nMoving from Adelaide to MelbourneMoving from Albury to MelbourneMoving from Brisbane to MelbourneMoving from Cairns to MelbourneMoving from Canberra to MelbourneMoving from Coffs Harbour to MelbourneMoving from Darwin to MelbourneMoving from Gold Coast to MelbourneMoving from Grafton to MelbourneMoving from Hervey Bay to MelbourneMoving from Hobart to MelbourneMoving from Hunter Valley to MelbourneMoving from Mackay to MelbourneMoving from Newcastle to MelbourneMoving from Orange to MelbourneMoving from Perth to MelbourneMoving from Port Macquarie to MelbourneMoving from Rockhampton to MelbourneMoving from Sunshine Coast to MelbourneMoving from Sydney to MelbourneMoving from Tasmania to MelbourneMoving from Townsville to MelbourneMoving from Wollongong to Melbourne\\n\\nMoving from Melbourne to AdelaideMoving from Melbourne to AlburyMoving from Melbourne to BrisbaneMoving from Melbourne to BunburyMoving from Melbourne to BundabergMoving from Melbourne to Byron BayMoving from Melbourne to CairnsMoving from Melbourne to CanberraMoving from Melbourne to Central Coast Moving from Melbourne to Coffs HarbourMoving from Melbourne to DarwinMoving from Melbourne to DevonportMoving from Melbourne to Fraser CoastMoving from Melbourne to GeraldtonMoving from Melbourne to GladstoneMoving from Melbourne to Gold CoastMoving from Melbourne to GraftonMoving from Melbourne to Hervey BayMoving from Melbourne to HobartMoving from Melbourne to Hunter ValleyMoving from Melbourne to LauncestonMoving from Melbourne to LismoreMoving from Melbourne to MackayMoving from Melbourne to MandurahMoving from Melbourne to NewcastleMoving from Melbourne to OrangeMoving from Melbourne to PerthMoving from Melbourne to Port MacquarieMoving from Melbourne to RockhamptonMoving from Melbourne to Sunshine CoastMoving from Melbourne to SydneyMoving from Melbourne to TamworthMoving from Melbourne to TasmaniaMoving from Melbourne to ToowoombaMoving from Melbourne to TownsvilleMoving from Melbourne to Tweed CoastMoving from Melbourne to Tweed HeadsMoving from Melbourne to Wagga WaggaMoving from Melbourne to Wollongong\\n\\nIf you are in need of local removalists services in Melbourne we can also help with professional movers for local moves.\\n\\nGet In Touch\\n\\nWollert Victoria\\n\\n0404922328\\n\\nvictoriaonmove07@gmail.com\\n\\nQuick Links\\n\\nAbout Us Contact Us Our Services Terms & Condition\\n\\nPhoto Gallery\\n\\n\\n\\n\\n\\n\\n\\n\\n\\n\\n\\n\\n\\nCheck us out on Google!\\n\\nreviews\\n\\n© Victoria On Move 2024, All Right Reserved. Designed By HTML Codex\\n\\nHome')]"
      ]
     },
     "execution_count": 6,
     "metadata": {},
     "output_type": "execute_result"
    }
   ],
   "source": [
    "data"
   ]
  },
  {
   "cell_type": "markdown",
   "id": "609521ca",
   "metadata": {},
   "source": [
    "# SPLITTING OF TEXT "
   ]
  },
  {
   "cell_type": "code",
   "execution_count": 7,
   "id": "30c95d4d",
   "metadata": {},
   "outputs": [
    {
     "name": "stdout",
     "output_type": "stream",
     "text": [
      "THE TOTAL NUMBER OF DOCUMENTS 17\n"
     ]
    }
   ],
   "source": [
    "text_splitter=RecursiveCharacterTextSplitter(chunk_size=1000)\n",
    "docs = text_splitter.split_documents(data)\n",
    "print(\"THE TOTAL NUMBER OF DOCUMENTS\",len(docs))"
   ]
  },
  {
   "cell_type": "markdown",
   "id": "0a60f3cb",
   "metadata": {},
   "source": [
    "# INITIALIZING THE VECTOR DATABASE - CHROMA DB"
   ]
  },
  {
   "cell_type": "code",
   "execution_count": 8,
   "id": "247c9f5b",
   "metadata": {},
   "outputs": [
    {
     "data": {
      "text/plain": [
       "True"
      ]
     },
     "execution_count": 8,
     "metadata": {},
     "output_type": "execute_result"
    }
   ],
   "source": [
    "load_dotenv()"
   ]
  },
  {
   "cell_type": "code",
   "execution_count": null,
   "id": "a15f91f3",
   "metadata": {},
   "outputs": [
    {
     "data": {
      "text/plain": [
       "3"
      ]
     },
     "execution_count": 11,
     "metadata": {},
     "output_type": "execute_result"
    }
   ],
   "source": [
    "vectorstore= Chroma.from_documents(documents=docs,embedding=OpenAIEmbeddings())   # defining the vector database and the embedding model\n",
    "retriever=vectorstore.as_retriever(search_type=\"similarity\",search_kwargs={\"k\":3}) # defining the search method and number of docs to be retrieved\n",
    "retrieved_docs=retriever.invoke(\"What are the services provided by Victoria On Move?\") # defining the query\n",
    "len(retrieved_docs)"
   ]
  },
  {
   "cell_type": "code",
   "execution_count": 29,
   "id": "ca552213",
   "metadata": {},
   "outputs": [
    {
     "name": "stdout",
     "output_type": "stream",
     "text": [
      "Transparent Pricing:\n",
      "\n",
      "Clear and competitive pricing with no hidden fees, providing transparency and peace of mind.\n",
      "\n",
      "Positive Reputation:\n",
      "\n",
      "Established reputation for reliability, professionalism, and positive customer feedback in the moving industry.\n",
      "\n",
      "Choosing Victoria on Move ensures a stress-free and reliable moving experience, backed by expertise, professionalism, and a commitment to customer satisfaction.\n",
      "\n",
      "Find removalists travelling interstate to or from Melbourne\n",
      "\n",
      "From Melbourne\n",
      "\n",
      "To Melbourne\n"
     ]
    }
   ],
   "source": [
    "print(retrieved_docs[0].page_content)"
   ]
  },
  {
   "cell_type": "markdown",
   "id": "941314a5",
   "metadata": {},
   "source": [
    "# CONNECTING THE OUTPUT TO THE LLM TO GET THE MOST ACCURATE ANS"
   ]
  },
  {
   "cell_type": "code",
   "execution_count": 14,
   "id": "86b30f58",
   "metadata": {},
   "outputs": [
    {
     "name": "stdout",
     "output_type": "stream",
     "text": [
      "Collecting faiss-cpu\n",
      "  Downloading faiss_cpu-1.12.0-cp310-cp310-win_amd64.whl.metadata (5.2 kB)\n",
      "Requirement already satisfied: beautifulsoup4 in c:\\anaconda3\\envs\\rag\\lib\\site-packages (4.14.2)\n",
      "Requirement already satisfied: numpy<3.0,>=1.25.0 in c:\\anaconda3\\envs\\rag\\lib\\site-packages (from faiss-cpu) (2.2.6)\n",
      "Requirement already satisfied: packaging in c:\\anaconda3\\envs\\rag\\lib\\site-packages (from faiss-cpu) (24.2)\n",
      "Requirement already satisfied: soupsieve>1.2 in c:\\anaconda3\\envs\\rag\\lib\\site-packages (from beautifulsoup4) (2.8)\n",
      "Requirement already satisfied: typing-extensions>=4.0.0 in c:\\anaconda3\\envs\\rag\\lib\\site-packages (from beautifulsoup4) (4.15.0)\n",
      "Downloading faiss_cpu-1.12.0-cp310-cp310-win_amd64.whl (18.2 MB)\n",
      "   ---------------------------------------- 0.0/18.2 MB ? eta -:--:--\n",
      "   -------- ------------------------------- 3.9/18.2 MB 21.3 MB/s eta 0:00:01\n",
      "   ------------------- -------------------- 8.7/18.2 MB 21.5 MB/s eta 0:00:01\n",
      "   ------------------------------ --------- 13.9/18.2 MB 22.9 MB/s eta 0:00:01\n",
      "   ---------------------------------------- 18.2/18.2 MB 22.5 MB/s  0:00:00\n",
      "Installing collected packages: faiss-cpu\n",
      "Successfully installed faiss-cpu-1.12.0\n"
     ]
    }
   ],
   "source": [
    "! pip install faiss-cpu beautifulsoup4"
   ]
  },
  {
   "cell_type": "code",
   "execution_count": null,
   "id": "9d838d12",
   "metadata": {},
   "outputs": [],
   "source": [
    "from langchain_community.vectorstores import FAISS"
   ]
  },
  {
   "cell_type": "code",
   "execution_count": 28,
   "id": "d634363f",
   "metadata": {},
   "outputs": [
    {
     "name": "stdout",
     "output_type": "stream",
     "text": [
      " \n",
      "\n",
      " Answer: Victoria On Move provides clear and competitive pricing with no hidden fees, transparency and peace of mind, a positive reputation for reliability and professionalism, and a stress-free and reliable moving experience backed by expertise, professionalism, and a commitment to customer satisfaction. They also offer removalist services for both interstate moves to and from Melbourne.\n"
     ]
    }
   ],
   "source": [
    "llm=OpenAI(temperature=0.7,max_tokens=500)\n",
    "response=llm.invoke(f\"Answer the question based on the context provided: {retrieved_docs[0].page_content} \\n Question: What are the services provided by Victoria On Move?\")\n",
    "print(response)"
   ]
  }
 ],
 "metadata": {
  "kernelspec": {
   "display_name": "rag",
   "language": "python",
   "name": "python3"
  },
  "language_info": {
   "codemirror_mode": {
    "name": "ipython",
    "version": 3
   },
   "file_extension": ".py",
   "mimetype": "text/x-python",
   "name": "python",
   "nbconvert_exporter": "python",
   "pygments_lexer": "ipython3",
   "version": "3.10.19"
  }
 },
 "nbformat": 4,
 "nbformat_minor": 5
}
